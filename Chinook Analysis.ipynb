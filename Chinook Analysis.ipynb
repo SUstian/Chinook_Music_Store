{
 "cells": [
  {
   "cell_type": "markdown",
   "metadata": {},
   "source": [
    "# Chinook Music Database - Analysis"
   ]
  },
  {
   "cell_type": "markdown",
   "metadata": {},
   "source": [
    "This project uses SQL to answer hypothetical buisness questions. We will be working with a version of a database called Chinook, which contains information about a fictional digital music shop (i.e. an iTunes-like store). \n",
    "\n",
    "The Chinook database contains information about the artists, songs, and albums from the music shop, as well as information on the shop's employees, customers, and the customers purchases. This information is contained in eleven tables. \n",
    "\n",
    "NOTE: This analysis was completed as part of the SQL courses on the Dataquest e-learning platform."
   ]
  },
  {
   "cell_type": "markdown",
   "metadata": {},
   "source": [
    "## Library Import and Creation of Helper Functions"
   ]
  },
  {
   "cell_type": "markdown",
   "metadata": {},
   "source": [
    "We will begin by importing the various libraries that will be used throughout the anlaysis, and by creating a few helper functions for running our SQL queries."
   ]
  },
  {
   "cell_type": "code",
   "execution_count": 1,
   "metadata": {
    "collapsed": true
   },
   "outputs": [],
   "source": [
    "import sqlite3\n",
    "import pandas as pd\n",
    "import matplotlib.pyplot as plt\n",
    "import numpy as np\n",
    "%matplotlib inline"
   ]
  },
  {
   "cell_type": "markdown",
   "metadata": {},
   "source": [
    "Our first function uses a context manager to handle the connection to the database, and returns a dataframe as the output. "
   ]
  },
  {
   "cell_type": "code",
   "execution_count": 2,
   "metadata": {
    "collapsed": true
   },
   "outputs": [],
   "source": [
    "def run_query(q):\n",
    "    with sqlite3.connect('chinook.db') as conn:\n",
    "        return pd.read_sql(q, conn)"
   ]
  },
  {
   "cell_type": "markdown",
   "metadata": {},
   "source": [
    "The next function is one that can be used for SQL queries that don't return tables (such as \"CREATE VIEW\")."
   ]
  },
  {
   "cell_type": "code",
   "execution_count": 3,
   "metadata": {
    "collapsed": true
   },
   "outputs": [],
   "source": [
    "def run_command(c):\n",
    "    with sqlite3.connect('chinook.db') as conn:\n",
    "        conn.isolation_level = None\n",
    "        conn.execute(c)"
   ]
  },
  {
   "cell_type": "markdown",
   "metadata": {},
   "source": [
    "Finally, we'll create a function that uses our run_query() function to return a list of all tables and views in our databases."
   ]
  },
  {
   "cell_type": "code",
   "execution_count": 4,
   "metadata": {
    "collapsed": false
   },
   "outputs": [
    {
     "data": {
      "text/html": [
       "<div>\n",
       "<table border=\"1\" class=\"dataframe\">\n",
       "  <thead>\n",
       "    <tr style=\"text-align: right;\">\n",
       "      <th></th>\n",
       "      <th>name</th>\n",
       "      <th>type</th>\n",
       "    </tr>\n",
       "  </thead>\n",
       "  <tbody>\n",
       "    <tr>\n",
       "      <th>0</th>\n",
       "      <td>album</td>\n",
       "      <td>table</td>\n",
       "    </tr>\n",
       "    <tr>\n",
       "      <th>1</th>\n",
       "      <td>artist</td>\n",
       "      <td>table</td>\n",
       "    </tr>\n",
       "    <tr>\n",
       "      <th>2</th>\n",
       "      <td>customer</td>\n",
       "      <td>table</td>\n",
       "    </tr>\n",
       "    <tr>\n",
       "      <th>3</th>\n",
       "      <td>employee</td>\n",
       "      <td>table</td>\n",
       "    </tr>\n",
       "    <tr>\n",
       "      <th>4</th>\n",
       "      <td>genre</td>\n",
       "      <td>table</td>\n",
       "    </tr>\n",
       "    <tr>\n",
       "      <th>5</th>\n",
       "      <td>invoice</td>\n",
       "      <td>table</td>\n",
       "    </tr>\n",
       "    <tr>\n",
       "      <th>6</th>\n",
       "      <td>invoice_line</td>\n",
       "      <td>table</td>\n",
       "    </tr>\n",
       "    <tr>\n",
       "      <th>7</th>\n",
       "      <td>media_type</td>\n",
       "      <td>table</td>\n",
       "    </tr>\n",
       "    <tr>\n",
       "      <th>8</th>\n",
       "      <td>playlist</td>\n",
       "      <td>table</td>\n",
       "    </tr>\n",
       "    <tr>\n",
       "      <th>9</th>\n",
       "      <td>playlist_track</td>\n",
       "      <td>table</td>\n",
       "    </tr>\n",
       "    <tr>\n",
       "      <th>10</th>\n",
       "      <td>track</td>\n",
       "      <td>table</td>\n",
       "    </tr>\n",
       "  </tbody>\n",
       "</table>\n",
       "</div>"
      ],
      "text/plain": [
       "              name   type\n",
       "0            album  table\n",
       "1           artist  table\n",
       "2         customer  table\n",
       "3         employee  table\n",
       "4            genre  table\n",
       "5          invoice  table\n",
       "6     invoice_line  table\n",
       "7       media_type  table\n",
       "8         playlist  table\n",
       "9   playlist_track  table\n",
       "10           track  table"
      ]
     },
     "execution_count": 4,
     "metadata": {},
     "output_type": "execute_result"
    }
   ],
   "source": [
    "def show_tables():\n",
    "    q = '''\n",
    "    SELECT\n",
    "        name,\n",
    "        type\n",
    "    FROM sqlite_master\n",
    "    WHERE type IN (\"table\",\"view\");\n",
    "    '''\n",
    "    return run_query(q)\n",
    "\n",
    "show_tables()"
   ]
  },
  {
   "cell_type": "markdown",
   "metadata": {},
   "source": [
    "## Top-Selling Genres in the United States"
   ]
  },
  {
   "cell_type": "markdown",
   "metadata": {},
   "source": [
    "Our Chinook store has signed a deal with a new record label, and will initially be adding three of their albums to the store. The label specializes in artists from the US, so we've been tasked with finding out which genres sell best in the US so that we can determine which genres the three albums should represent.\n",
    "\n",
    "In order to do this we will write a query that returns each genre, the number of tracks sold in that genre, and the percentage of all tracks sold that this number represents."
   ]
  },
  {
   "cell_type": "code",
   "execution_count": 5,
   "metadata": {
    "collapsed": false
   },
   "outputs": [
    {
     "data": {
      "text/html": [
       "<div>\n",
       "<table border=\"1\" class=\"dataframe\">\n",
       "  <thead>\n",
       "    <tr style=\"text-align: right;\">\n",
       "      <th></th>\n",
       "      <th>genre</th>\n",
       "      <th>tracks_sold</th>\n",
       "      <th>tracks_sold_pct</th>\n",
       "    </tr>\n",
       "  </thead>\n",
       "  <tbody>\n",
       "    <tr>\n",
       "      <th>0</th>\n",
       "      <td>Rock</td>\n",
       "      <td>561</td>\n",
       "      <td>53.377735</td>\n",
       "    </tr>\n",
       "    <tr>\n",
       "      <th>1</th>\n",
       "      <td>Alternative &amp; Punk</td>\n",
       "      <td>130</td>\n",
       "      <td>12.369172</td>\n",
       "    </tr>\n",
       "    <tr>\n",
       "      <th>2</th>\n",
       "      <td>Metal</td>\n",
       "      <td>124</td>\n",
       "      <td>11.798287</td>\n",
       "    </tr>\n",
       "    <tr>\n",
       "      <th>3</th>\n",
       "      <td>R&amp;B/Soul</td>\n",
       "      <td>53</td>\n",
       "      <td>5.042816</td>\n",
       "    </tr>\n",
       "    <tr>\n",
       "      <th>4</th>\n",
       "      <td>Blues</td>\n",
       "      <td>36</td>\n",
       "      <td>3.425309</td>\n",
       "    </tr>\n",
       "    <tr>\n",
       "      <th>5</th>\n",
       "      <td>Alternative</td>\n",
       "      <td>35</td>\n",
       "      <td>3.330162</td>\n",
       "    </tr>\n",
       "    <tr>\n",
       "      <th>6</th>\n",
       "      <td>Latin</td>\n",
       "      <td>22</td>\n",
       "      <td>2.093245</td>\n",
       "    </tr>\n",
       "    <tr>\n",
       "      <th>7</th>\n",
       "      <td>Pop</td>\n",
       "      <td>22</td>\n",
       "      <td>2.093245</td>\n",
       "    </tr>\n",
       "    <tr>\n",
       "      <th>8</th>\n",
       "      <td>Hip Hop/Rap</td>\n",
       "      <td>20</td>\n",
       "      <td>1.902950</td>\n",
       "    </tr>\n",
       "    <tr>\n",
       "      <th>9</th>\n",
       "      <td>Jazz</td>\n",
       "      <td>14</td>\n",
       "      <td>1.332065</td>\n",
       "    </tr>\n",
       "  </tbody>\n",
       "</table>\n",
       "</div>"
      ],
      "text/plain": [
       "                genre  tracks_sold  tracks_sold_pct\n",
       "0                Rock          561        53.377735\n",
       "1  Alternative & Punk          130        12.369172\n",
       "2               Metal          124        11.798287\n",
       "3            R&B/Soul           53         5.042816\n",
       "4               Blues           36         3.425309\n",
       "5         Alternative           35         3.330162\n",
       "6               Latin           22         2.093245\n",
       "7                 Pop           22         2.093245\n",
       "8         Hip Hop/Rap           20         1.902950\n",
       "9                Jazz           14         1.332065"
      ]
     },
     "execution_count": 5,
     "metadata": {},
     "output_type": "execute_result"
    }
   ],
   "source": [
    "top_us_genres = '''\n",
    "WITH us_tracks_sold AS\n",
    "    (\n",
    "    SELECT il.*\n",
    "    FROM invoice_line il\n",
    "    JOIN invoice i ON il.invoice_id = i.invoice_id\n",
    "    JOIN customer c ON i.customer_id = c.customer_id\n",
    "    WHERE c.country = \"USA\"\n",
    "    )\n",
    "\n",
    "SELECT \n",
    "    g.name genre, \n",
    "    COUNT(uts.invoice_line_id) tracks_sold,\n",
    "    (CAST(COUNT(uts.invoice_line_id) AS FLOAT) / (SELECT COUNT(*) FROM us_tracks_sold)) * 100 tracks_sold_pct\n",
    "FROM us_tracks_sold uts\n",
    "JOIN track t ON uts.track_id = t.track_id\n",
    "JOIN genre g ON t.genre_id = g.genre_id\n",
    "GROUP BY 1\n",
    "ORDER BY 2 DESC\n",
    "LIMIT 10;\n",
    "'''\n",
    "run_query(top_us_genres)"
   ]
  },
  {
   "cell_type": "markdown",
   "metadata": {},
   "source": [
    "From this list, we can clearly see that the top three genres in the US (by number of tracks sold) are: Rock, Alternative & Punk, and Metal.  Therefore, the albums that we include in the Chinook store should come from these genres in order to maximize sales.\n",
    "\n",
    "This information will be included in a presentation to company executives, so we will plot this in a bar graph that can be included in the presentation."
   ]
  },
  {
   "cell_type": "code",
   "execution_count": 6,
   "metadata": {
    "collapsed": false
   },
   "outputs": [
    {
     "data": {
      "image/png": "[encoded data removed]",
      "text/plain": [
       "<matplotlib.figure.Figure at 0x10b625a50>"
      ]
     },
     "metadata": {},
     "output_type": "display_data"
    }
   ],
   "source": [
    "us_genre_sales = run_query(top_us_genres)\n",
    "\n",
    "labels = us_genre_sales['genre']\n",
    "x = range(len(labels))\n",
    "y = us_genre_sales['tracks_sold']\n",
    "\n",
    "plt.figure(figsize=(8, 6))\n",
    "ax = plt.subplot()\n",
    "plt.barh(x, y, color='#4f94cd')\n",
    "plt.gca().invert_yaxis() #inverting the y axis so that results appear in descending order\n",
    "\n",
    "ax.set_yticks(range(len(labels)))\n",
    "ax.set_yticks([float(n)+0.5 for n in ax.get_yticks()]) #positions the yticks in the center of the bars\n",
    "ax.set_yticklabels(labels)\n",
    "ax.tick_params(bottom=\"off\", left=\"off\", top=\"off\", right=\"off\")\n",
    "ax.set_xlim(0, 625)\n",
    "\n",
    "plt.xlabel('Tracks Sold', fontdict = {'fontsize' : 12})\n",
    "plt.suptitle('Top 10 Genres in the US by Track Sales', fontdict = {'fontsize' : 15})\n",
    "plt.title('Incuding Percentage of Overall Sales', fontdict = {'fontsize' : 12})\n",
    "ax.title.set_position([.5, 1.01]) #adding space between the title and the plot\n",
    "\n",
    "#Below we'll label the bars with the percentage of overall sales for each genre.\n",
    "for i, v in zip(ax.patches, us_genre_sales['tracks_sold_pct'].tolist()):\n",
    "    ax.text(i.get_width()+6, i.get_y()+.5, str(round(v, 1)) + '%');"
   ]
  },
  {
   "cell_type": "markdown",
   "metadata": {},
   "source": [
    "## Employee Sales Performance"
   ]
  },
  {
   "cell_type": "markdown",
   "metadata": {
    "collapsed": true
   },
   "source": [
    "Each customer for the Chinook store gets assigned to a sales support agent within the company when they first make a purchase. We have been asked to analyze the purchases of customers belonging to each employee to see if any sales support agent is performing better or worse than the others.\n",
    "\n",
    "To do so, we will write a query that finds the total dollar amount of sales assigned to each sales support agent within the company. We will also look at the employees' start dates, as that may have an impact on their total sales. "
   ]
  },
  {
   "cell_type": "code",
   "execution_count": 7,
   "metadata": {
    "collapsed": false
   },
   "outputs": [
    {
     "data": {
      "text/html": [
       "<div>\n",
       "<table border=\"1\" class=\"dataframe\">\n",
       "  <thead>\n",
       "    <tr style=\"text-align: right;\">\n",
       "      <th></th>\n",
       "      <th>employee</th>\n",
       "      <th>hire_date</th>\n",
       "      <th>total_sales</th>\n",
       "    </tr>\n",
       "  </thead>\n",
       "  <tbody>\n",
       "    <tr>\n",
       "      <th>0</th>\n",
       "      <td>Jane Peacock</td>\n",
       "      <td>2017-04-01 00:00:00</td>\n",
       "      <td>1731.51</td>\n",
       "    </tr>\n",
       "    <tr>\n",
       "      <th>1</th>\n",
       "      <td>Margaret Park</td>\n",
       "      <td>2017-05-03 00:00:00</td>\n",
       "      <td>1584.00</td>\n",
       "    </tr>\n",
       "    <tr>\n",
       "      <th>2</th>\n",
       "      <td>Steve Johnson</td>\n",
       "      <td>2017-10-17 00:00:00</td>\n",
       "      <td>1393.92</td>\n",
       "    </tr>\n",
       "  </tbody>\n",
       "</table>\n",
       "</div>"
      ],
      "text/plain": [
       "        employee            hire_date  total_sales\n",
       "0   Jane Peacock  2017-04-01 00:00:00      1731.51\n",
       "1  Margaret Park  2017-05-03 00:00:00      1584.00\n",
       "2  Steve Johnson  2017-10-17 00:00:00      1393.92"
      ]
     },
     "execution_count": 7,
     "metadata": {},
     "output_type": "execute_result"
    }
   ],
   "source": [
    "employee_sales = '''\n",
    "SELECT\n",
    "    e.first_name || \" \" || e.last_name employee, \n",
    "    e.hire_date, \n",
    "    SUM(i.total) total_sales\n",
    "FROM employee e\n",
    "JOIN customer c ON e.employee_id = c.support_rep_id\n",
    "JOIN invoice i ON c.customer_id = i.customer_id\n",
    "WHERE e.title = \"Sales Support Agent\"\n",
    "GROUP BY 1\n",
    "'''\n",
    "run_query(employee_sales)"
   ]
  },
  {
   "cell_type": "markdown",
   "metadata": {},
   "source": [
    "From this, we can easily see that Jane Peacock has the highest total sales amount, but she has also worked at the company for the longest amount of time.  When considering the total sales and start dates of the other two employees, it looks like everyone is relatively similar in their sales performance. \n",
    "\n",
    "We will also plot this data in a bar graph that could be included in a presentation."
   ]
  },
  {
   "cell_type": "code",
   "execution_count": 8,
   "metadata": {
    "collapsed": false
   },
   "outputs": [
    {
     "data": {
      "image/png": "[encoded data removed]",
      "text/plain": [
       "<matplotlib.figure.Figure at 0x10b7ca250>"
      ]
     },
     "metadata": {},
     "output_type": "display_data"
    }
   ],
   "source": [
    "employee_sales_data = run_query(employee_sales)\n",
    "\n",
    "names = employee_sales_data['employee']\n",
    "x = range(len(names))\n",
    "y = employee_sales_data['total_sales']\n",
    "\n",
    "fig, ax = plt.subplots(figsize=(6, 7))\n",
    "plt.bar(x, y, width=0.5, align='center', color='#fbab69')\n",
    "\n",
    "ax.set_xticks(range(len(names)))\n",
    "ax.set_xticklabels(names, fontsize=12)\n",
    "ax.tick_params(bottom=\"off\", left=\"off\", top=\"off\", right=\"off\")\n",
    "\n",
    "plt.ylabel('Total Sales ($)', fontdict = {'fontsize' : 12})\n",
    "plt.title('Sales per Chinook Employee', fontdict = {'fontsize' : 15})\n",
    "ax.title.set_position([.5, 1.02]);"
   ]
  },
  {
   "cell_type": "markdown",
   "metadata": {},
   "source": [
    "## Sales by Country"
   ]
  },
  {
   "cell_type": "markdown",
   "metadata": {},
   "source": [
    "Our next task is to analyze the customer sales data by countryto see if there are any actionable trends. More specifically, we will be calculating the following data points for each country represented in the Chinook database:\n",
    "\n",
    "* total number of customers\n",
    "* total value of sales\n",
    "* average value of sales per customer\n",
    "* average order value\n",
    "\n",
    "Because there are a number of countries with only one customer, we will group these countries as \"Other\" in our analysis. "
   ]
  },
  {
   "cell_type": "code",
   "execution_count": 9,
   "metadata": {
    "collapsed": false
   },
   "outputs": [
    {
     "data": {
      "text/html": [
       "<div>\n",
       "<table border=\"1\" class=\"dataframe\">\n",
       "  <thead>\n",
       "    <tr style=\"text-align: right;\">\n",
       "      <th></th>\n",
       "      <th>country</th>\n",
       "      <th>total_customers</th>\n",
       "      <th>total_sales</th>\n",
       "      <th>sales_per_customer</th>\n",
       "      <th>average_order</th>\n",
       "    </tr>\n",
       "  </thead>\n",
       "  <tbody>\n",
       "    <tr>\n",
       "      <th>0</th>\n",
       "      <td>Other</td>\n",
       "      <td>15</td>\n",
       "      <td>1094.94</td>\n",
       "      <td>72.996000</td>\n",
       "      <td>7.448571</td>\n",
       "    </tr>\n",
       "    <tr>\n",
       "      <th>1</th>\n",
       "      <td>USA</td>\n",
       "      <td>13</td>\n",
       "      <td>1040.49</td>\n",
       "      <td>80.037692</td>\n",
       "      <td>7.942672</td>\n",
       "    </tr>\n",
       "    <tr>\n",
       "      <th>2</th>\n",
       "      <td>Canada</td>\n",
       "      <td>8</td>\n",
       "      <td>535.59</td>\n",
       "      <td>66.948750</td>\n",
       "      <td>7.047237</td>\n",
       "    </tr>\n",
       "    <tr>\n",
       "      <th>3</th>\n",
       "      <td>Brazil</td>\n",
       "      <td>5</td>\n",
       "      <td>427.68</td>\n",
       "      <td>85.536000</td>\n",
       "      <td>7.011148</td>\n",
       "    </tr>\n",
       "    <tr>\n",
       "      <th>4</th>\n",
       "      <td>France</td>\n",
       "      <td>5</td>\n",
       "      <td>389.07</td>\n",
       "      <td>77.814000</td>\n",
       "      <td>7.781400</td>\n",
       "    </tr>\n",
       "    <tr>\n",
       "      <th>5</th>\n",
       "      <td>Germany</td>\n",
       "      <td>4</td>\n",
       "      <td>334.62</td>\n",
       "      <td>83.655000</td>\n",
       "      <td>8.161463</td>\n",
       "    </tr>\n",
       "    <tr>\n",
       "      <th>6</th>\n",
       "      <td>United Kingdom</td>\n",
       "      <td>3</td>\n",
       "      <td>245.52</td>\n",
       "      <td>81.840000</td>\n",
       "      <td>8.768571</td>\n",
       "    </tr>\n",
       "    <tr>\n",
       "      <th>7</th>\n",
       "      <td>Czech Republic</td>\n",
       "      <td>2</td>\n",
       "      <td>273.24</td>\n",
       "      <td>136.620000</td>\n",
       "      <td>9.108000</td>\n",
       "    </tr>\n",
       "    <tr>\n",
       "      <th>8</th>\n",
       "      <td>Portugal</td>\n",
       "      <td>2</td>\n",
       "      <td>185.13</td>\n",
       "      <td>92.565000</td>\n",
       "      <td>6.383793</td>\n",
       "    </tr>\n",
       "    <tr>\n",
       "      <th>9</th>\n",
       "      <td>India</td>\n",
       "      <td>2</td>\n",
       "      <td>183.15</td>\n",
       "      <td>91.575000</td>\n",
       "      <td>8.721429</td>\n",
       "    </tr>\n",
       "  </tbody>\n",
       "</table>\n",
       "</div>"
      ],
      "text/plain": [
       "          country  total_customers  total_sales  sales_per_customer  \\\n",
       "0           Other               15      1094.94           72.996000   \n",
       "1             USA               13      1040.49           80.037692   \n",
       "2          Canada                8       535.59           66.948750   \n",
       "3          Brazil                5       427.68           85.536000   \n",
       "4          France                5       389.07           77.814000   \n",
       "5         Germany                4       334.62           83.655000   \n",
       "6  United Kingdom                3       245.52           81.840000   \n",
       "7  Czech Republic                2       273.24          136.620000   \n",
       "8        Portugal                2       185.13           92.565000   \n",
       "9           India                2       183.15           91.575000   \n",
       "\n",
       "   average_order  \n",
       "0       7.448571  \n",
       "1       7.942672  \n",
       "2       7.047237  \n",
       "3       7.011148  \n",
       "4       7.781400  \n",
       "5       8.161463  \n",
       "6       8.768571  \n",
       "7       9.108000  \n",
       "8       6.383793  \n",
       "9       8.721429  "
      ]
     },
     "execution_count": 9,
     "metadata": {},
     "output_type": "execute_result"
    }
   ],
   "source": [
    "sales_by_country = '''\n",
    "WITH country_or_other AS\n",
    "    (\n",
    "    SELECT\n",
    "        CASE\n",
    "           WHEN (\n",
    "                 SELECT count(*)\n",
    "                 FROM customer\n",
    "                 where country = c.country\n",
    "                 ) = 1 THEN \"Other\"\n",
    "           ELSE c.country\n",
    "        END AS country,\n",
    "        c.customer_id, \n",
    "        il.*\n",
    "    FROM invoice_line il\n",
    "    JOIN invoice i ON il.invoice_id = i.invoice_id\n",
    "    JOIN customer c ON i.customer_id = c.customer_id\n",
    "    )\n",
    "\n",
    "SELECT\n",
    "    country,\n",
    "    COUNT(DISTINCT customer_id) total_customers,\n",
    "    SUM(unit_price) total_sales,\n",
    "    SUM(unit_price) / COUNT(distinct customer_id) sales_per_customer,\n",
    "    SUM(unit_price) / COUNT(distinct invoice_id) average_order\n",
    "FROM country_or_other\n",
    "GROUP BY 1\n",
    "ORDER BY 2 DESC, 3 DESC\n",
    "'''\n",
    "run_query(sales_by_country)"
   ]
  },
  {
   "cell_type": "markdown",
   "metadata": {},
   "source": [
    "This looks good, but it would be better to have the \"Other\" values at the bottom of our list.  To do that, we will add a \"sorting\" column to our query, make the whole thing a sorted subquery, then run a final query that omits the sorting column."
   ]
  },
  {
   "cell_type": "code",
   "execution_count": 10,
   "metadata": {
    "collapsed": false
   },
   "outputs": [
    {
     "data": {
      "text/html": [
       "<div>\n",
       "<table border=\"1\" class=\"dataframe\">\n",
       "  <thead>\n",
       "    <tr style=\"text-align: right;\">\n",
       "      <th></th>\n",
       "      <th>country</th>\n",
       "      <th>total_customers</th>\n",
       "      <th>total_sales</th>\n",
       "      <th>sales_per_customer</th>\n",
       "      <th>average_order</th>\n",
       "    </tr>\n",
       "  </thead>\n",
       "  <tbody>\n",
       "    <tr>\n",
       "      <th>0</th>\n",
       "      <td>USA</td>\n",
       "      <td>13</td>\n",
       "      <td>1040.49</td>\n",
       "      <td>80.037692</td>\n",
       "      <td>7.942672</td>\n",
       "    </tr>\n",
       "    <tr>\n",
       "      <th>1</th>\n",
       "      <td>Canada</td>\n",
       "      <td>8</td>\n",
       "      <td>535.59</td>\n",
       "      <td>66.948750</td>\n",
       "      <td>7.047237</td>\n",
       "    </tr>\n",
       "    <tr>\n",
       "      <th>2</th>\n",
       "      <td>Brazil</td>\n",
       "      <td>5</td>\n",
       "      <td>427.68</td>\n",
       "      <td>85.536000</td>\n",
       "      <td>7.011148</td>\n",
       "    </tr>\n",
       "    <tr>\n",
       "      <th>3</th>\n",
       "      <td>France</td>\n",
       "      <td>5</td>\n",
       "      <td>389.07</td>\n",
       "      <td>77.814000</td>\n",
       "      <td>7.781400</td>\n",
       "    </tr>\n",
       "    <tr>\n",
       "      <th>4</th>\n",
       "      <td>Germany</td>\n",
       "      <td>4</td>\n",
       "      <td>334.62</td>\n",
       "      <td>83.655000</td>\n",
       "      <td>8.161463</td>\n",
       "    </tr>\n",
       "    <tr>\n",
       "      <th>5</th>\n",
       "      <td>Czech Republic</td>\n",
       "      <td>2</td>\n",
       "      <td>273.24</td>\n",
       "      <td>136.620000</td>\n",
       "      <td>9.108000</td>\n",
       "    </tr>\n",
       "    <tr>\n",
       "      <th>6</th>\n",
       "      <td>United Kingdom</td>\n",
       "      <td>3</td>\n",
       "      <td>245.52</td>\n",
       "      <td>81.840000</td>\n",
       "      <td>8.768571</td>\n",
       "    </tr>\n",
       "    <tr>\n",
       "      <th>7</th>\n",
       "      <td>Portugal</td>\n",
       "      <td>2</td>\n",
       "      <td>185.13</td>\n",
       "      <td>92.565000</td>\n",
       "      <td>6.383793</td>\n",
       "    </tr>\n",
       "    <tr>\n",
       "      <th>8</th>\n",
       "      <td>India</td>\n",
       "      <td>2</td>\n",
       "      <td>183.15</td>\n",
       "      <td>91.575000</td>\n",
       "      <td>8.721429</td>\n",
       "    </tr>\n",
       "    <tr>\n",
       "      <th>9</th>\n",
       "      <td>Other</td>\n",
       "      <td>15</td>\n",
       "      <td>1094.94</td>\n",
       "      <td>72.996000</td>\n",
       "      <td>7.448571</td>\n",
       "    </tr>\n",
       "  </tbody>\n",
       "</table>\n",
       "</div>"
      ],
      "text/plain": [
       "          country  total_customers  total_sales  sales_per_customer  \\\n",
       "0             USA               13      1040.49           80.037692   \n",
       "1          Canada                8       535.59           66.948750   \n",
       "2          Brazil                5       427.68           85.536000   \n",
       "3          France                5       389.07           77.814000   \n",
       "4         Germany                4       334.62           83.655000   \n",
       "5  Czech Republic                2       273.24          136.620000   \n",
       "6  United Kingdom                3       245.52           81.840000   \n",
       "7        Portugal                2       185.13           92.565000   \n",
       "8           India                2       183.15           91.575000   \n",
       "9           Other               15      1094.94           72.996000   \n",
       "\n",
       "   average_order  \n",
       "0       7.942672  \n",
       "1       7.047237  \n",
       "2       7.011148  \n",
       "3       7.781400  \n",
       "4       8.161463  \n",
       "5       9.108000  \n",
       "6       8.768571  \n",
       "7       6.383793  \n",
       "8       8.721429  \n",
       "9       7.448571  "
      ]
     },
     "execution_count": 10,
     "metadata": {},
     "output_type": "execute_result"
    }
   ],
   "source": [
    "sorted_sales_by_country = '''\n",
    "WITH country_or_other AS\n",
    "    (\n",
    "    SELECT\n",
    "        CASE\n",
    "           WHEN (\n",
    "                 SELECT count(*)\n",
    "                 FROM customer\n",
    "                 where country = c.country\n",
    "                 ) = 1 THEN \"Other\"\n",
    "           ELSE c.country\n",
    "        END AS country,\n",
    "        c.customer_id, \n",
    "        il.*\n",
    "    FROM invoice_line il\n",
    "    JOIN invoice i ON il.invoice_id = i.invoice_id\n",
    "    JOIN customer c ON i.customer_id = c.customer_id\n",
    "    )\n",
    "\n",
    "SELECT\n",
    "    country, \n",
    "    total_customers, \n",
    "    total_sales, \n",
    "    sales_per_customer, \n",
    "    average_order\n",
    "FROM\n",
    "    (\n",
    "    SELECT\n",
    "        country,\n",
    "        COUNT(distinct customer_id) total_customers,\n",
    "        SUM(unit_price) total_sales,\n",
    "        SUM(unit_price) / COUNT(distinct customer_id) sales_per_customer,\n",
    "        SUM(unit_price) / COUNT(distinct invoice_id) average_order, \n",
    "        CASE\n",
    "            WHEN country = \"Other\" THEN 1\n",
    "            ELSE 0\n",
    "        END AS sort\n",
    "    FROM country_or_other\n",
    "    GROUP BY 1\n",
    "    ORDER BY sort ASC, total_sales DESC\n",
    "    )\n",
    "'''\n",
    "run_query(sorted_sales_by_country)"
   ]
  },
  {
   "cell_type": "markdown",
   "metadata": {},
   "source": [
    "Now we will create a couple plots to help us further explore the data."
   ]
  },
  {
   "cell_type": "code",
   "execution_count": 11,
   "metadata": {
    "collapsed": false
   },
   "outputs": [
    {
     "data": {
      "image/png": "[encoded data removed]",
      "text/plain": [
       "<matplotlib.figure.Figure at 0x10b9a5850>"
      ]
     },
     "metadata": {},
     "output_type": "display_data"
    }
   ],
   "source": [
    "country_data = run_query(sorted_sales_by_country)\n",
    "countries = country_data['country'] #for labeling\n",
    "colors = [plt.cm.Set2(i) for i in np.linspace(0, 1, country_data.shape[0])] #assigns a different color to each country\n",
    "\n",
    "fig = plt.figure(figsize=(14,7))\n",
    "ax1 = plt.subplot(1, 2, 1)\n",
    "ax2 = plt.subplot(1, 2, 2)\n",
    "\n",
    "#First Plot\n",
    "average_order = country_data['average_order'].copy()\n",
    "pct_diff_from_mean = average_order * 100 / average_order.mean() -  100\n",
    "pct_diff_from_mean.plot.bar(\n",
    "    ax=ax1,\n",
    "    color=colors,\n",
    "    title=\"Average Order - \\nPercent Difference from Mean\"\n",
    ")\n",
    "\n",
    "ax1.set_xticks(range(len(countries)))\n",
    "ax1.set_xticklabels(countries)\n",
    "ax1.tick_params(top=\"off\", right=\"off\", left=\"off\", bottom=\"off\")\n",
    "ax1.axhline(0, color='k')\n",
    "ax1.spines[\"top\"].set_visible(False)\n",
    "ax1.spines[\"right\"].set_visible(False)\n",
    "ax1.spines[\"bottom\"].set_visible(False)\n",
    "\n",
    "#Second Plot\n",
    "sales_per_customer = country_data['sales_per_customer'].copy()\n",
    "sales_per_customer.plot.bar(\n",
    "    ax=ax2,\n",
    "    color=colors,\n",
    "    title=\"Total Amount Spent per Customer ($)\"\n",
    ")\n",
    "\n",
    "ax2.set_xticks(range(len(countries)))\n",
    "ax2.set_xticklabels(countries)\n",
    "ax2.tick_params(top=\"off\", right=\"off\", left=\"off\", bottom=\"off\")\n",
    "ax2.spines[\"top\"].set_visible(False)\n",
    "ax2.spines[\"right\"].set_visible(False)"
   ]
  },
  {
   "cell_type": "markdown",
   "metadata": {},
   "source": [
    "From this, it appears as though customers from the Czech Republic are the biggest spenders, both on average and overall.  However, it is very important to note that the data from that country only represents two customers, who may be outliers for the country overall.  Therefore, this data should be used with caution.  There is more data available for customers from the United States, Canada, and Brazil, so that information may be more actionable.  From looking at the graphs for those countries, it appears as though efforts could be made to increase the average sale amounts for both Canada and Brazil."
   ]
  },
  {
   "cell_type": "markdown",
   "metadata": {},
   "source": [
    "## Are Customers Buying Tracks, or Full Albums?"
   ]
  },
  {
   "cell_type": "markdown",
   "metadata": {},
   "source": [
    "The Chinook store is set up in a way that allows customers to purchase either an entire album, or a collection of one or more individual tracks. The store does not let customers purchase a whole album, and then add individual tracks to that same purchase.\n",
    "\n",
    "Management is currently considering changing their purchasing strategy to save money. The strategy they are considering is to purchase only the most popular tracks from each album from record companies, instead of purchasing every track from an album.\n",
    "\n",
    "We have been asked to find out what percentage of purchases are individual tracks vs entire albums, so that management can use this data to understand the effect this decision might have on overall revenue. \n",
    "\n",
    "In order to answer this question, we will have to identify how many invoices contain all the tracks from an album.  We can do this by getting the list of tracks from an invoice and comparing it to the list of tracks from an album. We can find the album to compare the purchase to by looking up the album that one of the purchased tracks belongs to. It doesn't matter which track we pick, since if it's an album purchase, that album will be the same for all tracks. "
   ]
  },
  {
   "cell_type": "code",
   "execution_count": 12,
   "metadata": {
    "collapsed": false
   },
   "outputs": [
    {
     "data": {
      "text/html": [
       "<div>\n",
       "<table border=\"1\" class=\"dataframe\">\n",
       "  <thead>\n",
       "    <tr style=\"text-align: right;\">\n",
       "      <th></th>\n",
       "      <th>album_purchase</th>\n",
       "      <th>number_of_invoices</th>\n",
       "      <th>percent_of_invoices</th>\n",
       "    </tr>\n",
       "  </thead>\n",
       "  <tbody>\n",
       "    <tr>\n",
       "      <th>0</th>\n",
       "      <td>No</td>\n",
       "      <td>500</td>\n",
       "      <td>0.814332</td>\n",
       "    </tr>\n",
       "    <tr>\n",
       "      <th>1</th>\n",
       "      <td>Yes</td>\n",
       "      <td>114</td>\n",
       "      <td>0.185668</td>\n",
       "    </tr>\n",
       "  </tbody>\n",
       "</table>\n",
       "</div>"
      ],
      "text/plain": [
       "  album_purchase  number_of_invoices  percent_of_invoices\n",
       "0             No                 500             0.814332\n",
       "1            Yes                 114             0.185668"
      ]
     },
     "execution_count": 12,
     "metadata": {},
     "output_type": "execute_result"
    }
   ],
   "source": [
    "albums_or_tracks = '''\n",
    "WITH invoice_track_one AS\n",
    "    (\n",
    "    SELECT \n",
    "        il.invoice_id invoice_id, \n",
    "        MIN(track_id) first_track\n",
    "    FROM invoice_line il\n",
    "    GROUP BY 1\n",
    "    )\n",
    "  \n",
    "SELECT\n",
    "    album_purchase,\n",
    "    COUNT(invoice_id) number_of_invoices,\n",
    "    CAST(COUNT(invoice_id) AS FLOAT) / (SELECT COUNT(*) FROM invoice) percent_of_invoices\n",
    "FROM\n",
    "    (SELECT \n",
    "        ito.*,\n",
    "        CASE\n",
    "            WHEN\n",
    "                (SELECT t.track_id FROM track t\n",
    "                WHERE t.album_id = (SELECT t2.album_id from track t2\n",
    "                                    WHERE t2.track_id = ito.first_track)\n",
    "    \n",
    "                EXCEPT\n",
    "    \n",
    "                SELECT il2.track_id FROM invoice_line il2\n",
    "                WHERE il2.invoice_id = ito.invoice_id) IS NULL\n",
    "    \n",
    "            AND\n",
    "                (SELECT il2.track_id FROM invoice_line il2\n",
    "                WHERE il2.invoice_id = ito.invoice_id\n",
    "            \n",
    "                EXCEPT\n",
    "            \n",
    "                SELECT t.track_id FROM track t\n",
    "                WHERE t.album_id = (SELECT t2.album_id from track t2\n",
    "                                    WHERE t2.track_id = ito.first_track)) IS NULL\n",
    "            THEN 'Yes'\n",
    "            ELSE 'No'\n",
    "        END AS \"album_purchase\"\n",
    "    FROM invoice_track_one ito)\n",
    "GROUP BY album_purchase;\n",
    "'''\n",
    "run_query(albums_or_tracks)"
   ]
  },
  {
   "cell_type": "markdown",
   "metadata": {},
   "source": [
    "In the above query, we started by identifying one track from an invoice (we randomly chose to use the first track). Then, whithin the CASE statement, we did the following:\n",
    "* Pulled a list of all the tracks from the album id that matches the album id for our first track on the invoice.\n",
    "* We then pulled a list of all the tracks from the invoice id that matches the invoice id from our first track.\n",
    "* Using an except statement, we compare the two lists. If the result is null, the lists match.\n",
    "* After the AND, we simply switch our comparison, and pull a list of invoice tracks, except for the tracks from the ablum.\n",
    "* If both of these EXCEPT comparisons are null, the purchase was an album purchase, and is identified as such.\n",
    "\n",
    "From the resulting table, we can see that album purchases account for almost one fifth of total sales, so we would advise against ceasing album sales.\n",
    "\n",
    "NOTE: This concludes the portion of the analysis that was completed for the SQL e-learning course."
   ]
  },
  {
   "cell_type": "markdown",
   "metadata": {},
   "source": [
    "## Next Steps"
   ]
  },
  {
   "cell_type": "markdown",
   "metadata": {
    "collapsed": true
   },
   "source": [
    "Future updates to this project will explore answers to the following questions:\n",
    "* Which artist appears in the most playlists?\n",
    "* How many tracks have been purchased vs not purchased?\n",
    "* Is the range of tracks in the store reflective of their sales popularity?\n",
    "* Do protected vs non-protected media types have an effect on popularity?"
   ]
  }
 ],
 "metadata": {
  "kernelspec": {
   "display_name": "Python 2",
   "language": "python",
   "name": "python2"
  },
  "language_info": {
   "codemirror_mode": {
    "name": "ipython",
    "version": 2
   },
   "file_extension": ".py",
   "mimetype": "text/x-python",
   "name": "python",
   "nbconvert_exporter": "python",
   "pygments_lexer": "ipython2",
   "version": "2.7.10"
  }
 },
 "nbformat": 4,
 "nbformat_minor": 2
}
